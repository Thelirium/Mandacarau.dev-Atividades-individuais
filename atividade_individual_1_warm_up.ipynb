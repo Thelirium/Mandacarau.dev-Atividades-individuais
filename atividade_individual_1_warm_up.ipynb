{
  "nbformat": 4,
  "nbformat_minor": 0,
  "metadata": {
    "colab": {
      "name": "atividade_individual_1-warm_up.ipynb",
      "provenance": [],
      "authorship_tag": "ABX9TyN0C5lzZo7ZGzSVI1dhrT/9",
      "include_colab_link": true
    },
    "kernelspec": {
      "name": "python3",
      "display_name": "Python 3"
    },
    "language_info": {
      "name": "python"
    }
  },
  "cells": [
    {
      "cell_type": "markdown",
      "metadata": {
        "id": "view-in-github",
        "colab_type": "text"
      },
      "source": [
        "<a href=\"https://colab.research.google.com/github/Thelirium/Mandacarau.dev-Atividades-individuais/blob/main/atividade_individual_1_warm_up.ipynb\" target=\"_parent\"><img src=\"https://colab.research.google.com/assets/colab-badge.svg\" alt=\"Open In Colab\"/></a>"
      ]
    },
    {
      "cell_type": "code",
      "execution_count": null,
      "metadata": {
        "id": "XbUnoLENMX9R"
      },
      "outputs": [],
      "source": [
        "import pandas as pd\n",
        "import seaborn as sns\n",
        "import matplotlib.pyplot as plt"
      ]
    },
    {
      "cell_type": "markdown",
      "source": [
        "# **Conhecendo o dataset**"
      ],
      "metadata": {
        "id": "q0OU5ZTLSA0_"
      }
    },
    {
      "cell_type": "markdown",
      "source": [
        "### É composto por 112 features e duas classes binárias, presentes na coluna 'targets'. Assume-se que 1 indica a detecção de uma fraude."
      ],
      "metadata": {
        "id": "byNzazliRXNE"
      }
    },
    {
      "cell_type": "code",
      "source": [
        "dataset = pd.read_csv('fraud_detection_bank_dataset.csv')\n",
        "dataset"
      ],
      "metadata": {
        "colab": {
          "base_uri": "https://localhost:8080/",
          "height": 424
        },
        "id": "niC44kkAOGd4",
        "outputId": "8d759b63-aaaf-4620-93dd-5a3fa1c7b47a"
      },
      "execution_count": null,
      "outputs": [
        {
          "output_type": "execute_result",
          "data": {
            "text/plain": [
              "       Unnamed: 0  col_0  col_1  col_2  col_3  col_4  col_5  col_6  col_7  \\\n",
              "0               0      9   1354      0     18      0      1      7      9   \n",
              "1               1      0    239      0      1      0      1      0      0   \n",
              "2               2      0    260      0      4      0      3      6      0   \n",
              "3               3     17    682      0      1      0      0      8     17   \n",
              "4               4      1    540      0      2      0      1      7      1   \n",
              "...           ...    ...    ...    ...    ...    ...    ...    ...    ...   \n",
              "20463       20463      0     88      0      0      0      2     -1      0   \n",
              "20464       20464      0    134      0      2      0      0      6      0   \n",
              "20465       20465      4    393      1      1      0      0     -1      4   \n",
              "20466       20466      0     10      0      1      0      0     -1      0   \n",
              "20467       20467      4    399      0      3      0      1      7      4   \n",
              "\n",
              "       col_8  ...  col_103  col_104  col_105  col_106  col_107  col_108  \\\n",
              "0          0  ...        0        0        0        1        1        0   \n",
              "1          0  ...        0        1        0        0        0        0   \n",
              "2          0  ...        0        0        0        1        1        0   \n",
              "3          0  ...        0        1        0        1        1        0   \n",
              "4          0  ...        0        0        0        1        1        0   \n",
              "...      ...  ...      ...      ...      ...      ...      ...      ...   \n",
              "20463      0  ...        0        1        0        0        0        0   \n",
              "20464      0  ...        0        0        0        0        0        0   \n",
              "20465      0  ...        0        1        0        0        0        0   \n",
              "20466      0  ...        0        0        0        0        0        0   \n",
              "20467      0  ...        0        1        0        1        1        0   \n",
              "\n",
              "       col_109  col_110  col_111  targets  \n",
              "0            0        0       49        1  \n",
              "1            0        0       55        1  \n",
              "2            0        0       56        1  \n",
              "3            0        0       65        1  \n",
              "4            0        0      175        1  \n",
              "...        ...      ...      ...      ...  \n",
              "20463        1        0       85        0  \n",
              "20464        0        0        7        0  \n",
              "20465        0        0       45        0  \n",
              "20466        0        0        5        0  \n",
              "20467        0        0       72        0  \n",
              "\n",
              "[20468 rows x 114 columns]"
            ],
            "text/html": [
              "\n",
              "  <div id=\"df-7f202851-fa93-4da4-9d44-5446317a05b2\">\n",
              "    <div class=\"colab-df-container\">\n",
              "      <div>\n",
              "<style scoped>\n",
              "    .dataframe tbody tr th:only-of-type {\n",
              "        vertical-align: middle;\n",
              "    }\n",
              "\n",
              "    .dataframe tbody tr th {\n",
              "        vertical-align: top;\n",
              "    }\n",
              "\n",
              "    .dataframe thead th {\n",
              "        text-align: right;\n",
              "    }\n",
              "</style>\n",
              "<table border=\"1\" class=\"dataframe\">\n",
              "  <thead>\n",
              "    <tr style=\"text-align: right;\">\n",
              "      <th></th>\n",
              "      <th>Unnamed: 0</th>\n",
              "      <th>col_0</th>\n",
              "      <th>col_1</th>\n",
              "      <th>col_2</th>\n",
              "      <th>col_3</th>\n",
              "      <th>col_4</th>\n",
              "      <th>col_5</th>\n",
              "      <th>col_6</th>\n",
              "      <th>col_7</th>\n",
              "      <th>col_8</th>\n",
              "      <th>...</th>\n",
              "      <th>col_103</th>\n",
              "      <th>col_104</th>\n",
              "      <th>col_105</th>\n",
              "      <th>col_106</th>\n",
              "      <th>col_107</th>\n",
              "      <th>col_108</th>\n",
              "      <th>col_109</th>\n",
              "      <th>col_110</th>\n",
              "      <th>col_111</th>\n",
              "      <th>targets</th>\n",
              "    </tr>\n",
              "  </thead>\n",
              "  <tbody>\n",
              "    <tr>\n",
              "      <th>0</th>\n",
              "      <td>0</td>\n",
              "      <td>9</td>\n",
              "      <td>1354</td>\n",
              "      <td>0</td>\n",
              "      <td>18</td>\n",
              "      <td>0</td>\n",
              "      <td>1</td>\n",
              "      <td>7</td>\n",
              "      <td>9</td>\n",
              "      <td>0</td>\n",
              "      <td>...</td>\n",
              "      <td>0</td>\n",
              "      <td>0</td>\n",
              "      <td>0</td>\n",
              "      <td>1</td>\n",
              "      <td>1</td>\n",
              "      <td>0</td>\n",
              "      <td>0</td>\n",
              "      <td>0</td>\n",
              "      <td>49</td>\n",
              "      <td>1</td>\n",
              "    </tr>\n",
              "    <tr>\n",
              "      <th>1</th>\n",
              "      <td>1</td>\n",
              "      <td>0</td>\n",
              "      <td>239</td>\n",
              "      <td>0</td>\n",
              "      <td>1</td>\n",
              "      <td>0</td>\n",
              "      <td>1</td>\n",
              "      <td>0</td>\n",
              "      <td>0</td>\n",
              "      <td>0</td>\n",
              "      <td>...</td>\n",
              "      <td>0</td>\n",
              "      <td>1</td>\n",
              "      <td>0</td>\n",
              "      <td>0</td>\n",
              "      <td>0</td>\n",
              "      <td>0</td>\n",
              "      <td>0</td>\n",
              "      <td>0</td>\n",
              "      <td>55</td>\n",
              "      <td>1</td>\n",
              "    </tr>\n",
              "    <tr>\n",
              "      <th>2</th>\n",
              "      <td>2</td>\n",
              "      <td>0</td>\n",
              "      <td>260</td>\n",
              "      <td>0</td>\n",
              "      <td>4</td>\n",
              "      <td>0</td>\n",
              "      <td>3</td>\n",
              "      <td>6</td>\n",
              "      <td>0</td>\n",
              "      <td>0</td>\n",
              "      <td>...</td>\n",
              "      <td>0</td>\n",
              "      <td>0</td>\n",
              "      <td>0</td>\n",
              "      <td>1</td>\n",
              "      <td>1</td>\n",
              "      <td>0</td>\n",
              "      <td>0</td>\n",
              "      <td>0</td>\n",
              "      <td>56</td>\n",
              "      <td>1</td>\n",
              "    </tr>\n",
              "    <tr>\n",
              "      <th>3</th>\n",
              "      <td>3</td>\n",
              "      <td>17</td>\n",
              "      <td>682</td>\n",
              "      <td>0</td>\n",
              "      <td>1</td>\n",
              "      <td>0</td>\n",
              "      <td>0</td>\n",
              "      <td>8</td>\n",
              "      <td>17</td>\n",
              "      <td>0</td>\n",
              "      <td>...</td>\n",
              "      <td>0</td>\n",
              "      <td>1</td>\n",
              "      <td>0</td>\n",
              "      <td>1</td>\n",
              "      <td>1</td>\n",
              "      <td>0</td>\n",
              "      <td>0</td>\n",
              "      <td>0</td>\n",
              "      <td>65</td>\n",
              "      <td>1</td>\n",
              "    </tr>\n",
              "    <tr>\n",
              "      <th>4</th>\n",
              "      <td>4</td>\n",
              "      <td>1</td>\n",
              "      <td>540</td>\n",
              "      <td>0</td>\n",
              "      <td>2</td>\n",
              "      <td>0</td>\n",
              "      <td>1</td>\n",
              "      <td>7</td>\n",
              "      <td>1</td>\n",
              "      <td>0</td>\n",
              "      <td>...</td>\n",
              "      <td>0</td>\n",
              "      <td>0</td>\n",
              "      <td>0</td>\n",
              "      <td>1</td>\n",
              "      <td>1</td>\n",
              "      <td>0</td>\n",
              "      <td>0</td>\n",
              "      <td>0</td>\n",
              "      <td>175</td>\n",
              "      <td>1</td>\n",
              "    </tr>\n",
              "    <tr>\n",
              "      <th>...</th>\n",
              "      <td>...</td>\n",
              "      <td>...</td>\n",
              "      <td>...</td>\n",
              "      <td>...</td>\n",
              "      <td>...</td>\n",
              "      <td>...</td>\n",
              "      <td>...</td>\n",
              "      <td>...</td>\n",
              "      <td>...</td>\n",
              "      <td>...</td>\n",
              "      <td>...</td>\n",
              "      <td>...</td>\n",
              "      <td>...</td>\n",
              "      <td>...</td>\n",
              "      <td>...</td>\n",
              "      <td>...</td>\n",
              "      <td>...</td>\n",
              "      <td>...</td>\n",
              "      <td>...</td>\n",
              "      <td>...</td>\n",
              "      <td>...</td>\n",
              "    </tr>\n",
              "    <tr>\n",
              "      <th>20463</th>\n",
              "      <td>20463</td>\n",
              "      <td>0</td>\n",
              "      <td>88</td>\n",
              "      <td>0</td>\n",
              "      <td>0</td>\n",
              "      <td>0</td>\n",
              "      <td>2</td>\n",
              "      <td>-1</td>\n",
              "      <td>0</td>\n",
              "      <td>0</td>\n",
              "      <td>...</td>\n",
              "      <td>0</td>\n",
              "      <td>1</td>\n",
              "      <td>0</td>\n",
              "      <td>0</td>\n",
              "      <td>0</td>\n",
              "      <td>0</td>\n",
              "      <td>1</td>\n",
              "      <td>0</td>\n",
              "      <td>85</td>\n",
              "      <td>0</td>\n",
              "    </tr>\n",
              "    <tr>\n",
              "      <th>20464</th>\n",
              "      <td>20464</td>\n",
              "      <td>0</td>\n",
              "      <td>134</td>\n",
              "      <td>0</td>\n",
              "      <td>2</td>\n",
              "      <td>0</td>\n",
              "      <td>0</td>\n",
              "      <td>6</td>\n",
              "      <td>0</td>\n",
              "      <td>0</td>\n",
              "      <td>...</td>\n",
              "      <td>0</td>\n",
              "      <td>0</td>\n",
              "      <td>0</td>\n",
              "      <td>0</td>\n",
              "      <td>0</td>\n",
              "      <td>0</td>\n",
              "      <td>0</td>\n",
              "      <td>0</td>\n",
              "      <td>7</td>\n",
              "      <td>0</td>\n",
              "    </tr>\n",
              "    <tr>\n",
              "      <th>20465</th>\n",
              "      <td>20465</td>\n",
              "      <td>4</td>\n",
              "      <td>393</td>\n",
              "      <td>1</td>\n",
              "      <td>1</td>\n",
              "      <td>0</td>\n",
              "      <td>0</td>\n",
              "      <td>-1</td>\n",
              "      <td>4</td>\n",
              "      <td>0</td>\n",
              "      <td>...</td>\n",
              "      <td>0</td>\n",
              "      <td>1</td>\n",
              "      <td>0</td>\n",
              "      <td>0</td>\n",
              "      <td>0</td>\n",
              "      <td>0</td>\n",
              "      <td>0</td>\n",
              "      <td>0</td>\n",
              "      <td>45</td>\n",
              "      <td>0</td>\n",
              "    </tr>\n",
              "    <tr>\n",
              "      <th>20466</th>\n",
              "      <td>20466</td>\n",
              "      <td>0</td>\n",
              "      <td>10</td>\n",
              "      <td>0</td>\n",
              "      <td>1</td>\n",
              "      <td>0</td>\n",
              "      <td>0</td>\n",
              "      <td>-1</td>\n",
              "      <td>0</td>\n",
              "      <td>0</td>\n",
              "      <td>...</td>\n",
              "      <td>0</td>\n",
              "      <td>0</td>\n",
              "      <td>0</td>\n",
              "      <td>0</td>\n",
              "      <td>0</td>\n",
              "      <td>0</td>\n",
              "      <td>0</td>\n",
              "      <td>0</td>\n",
              "      <td>5</td>\n",
              "      <td>0</td>\n",
              "    </tr>\n",
              "    <tr>\n",
              "      <th>20467</th>\n",
              "      <td>20467</td>\n",
              "      <td>4</td>\n",
              "      <td>399</td>\n",
              "      <td>0</td>\n",
              "      <td>3</td>\n",
              "      <td>0</td>\n",
              "      <td>1</td>\n",
              "      <td>7</td>\n",
              "      <td>4</td>\n",
              "      <td>0</td>\n",
              "      <td>...</td>\n",
              "      <td>0</td>\n",
              "      <td>1</td>\n",
              "      <td>0</td>\n",
              "      <td>1</td>\n",
              "      <td>1</td>\n",
              "      <td>0</td>\n",
              "      <td>0</td>\n",
              "      <td>0</td>\n",
              "      <td>72</td>\n",
              "      <td>0</td>\n",
              "    </tr>\n",
              "  </tbody>\n",
              "</table>\n",
              "<p>20468 rows × 114 columns</p>\n",
              "</div>\n",
              "      <button class=\"colab-df-convert\" onclick=\"convertToInteractive('df-7f202851-fa93-4da4-9d44-5446317a05b2')\"\n",
              "              title=\"Convert this dataframe to an interactive table.\"\n",
              "              style=\"display:none;\">\n",
              "        \n",
              "  <svg xmlns=\"http://www.w3.org/2000/svg\" height=\"24px\"viewBox=\"0 0 24 24\"\n",
              "       width=\"24px\">\n",
              "    <path d=\"M0 0h24v24H0V0z\" fill=\"none\"/>\n",
              "    <path d=\"M18.56 5.44l.94 2.06.94-2.06 2.06-.94-2.06-.94-.94-2.06-.94 2.06-2.06.94zm-11 1L8.5 8.5l.94-2.06 2.06-.94-2.06-.94L8.5 2.5l-.94 2.06-2.06.94zm10 10l.94 2.06.94-2.06 2.06-.94-2.06-.94-.94-2.06-.94 2.06-2.06.94z\"/><path d=\"M17.41 7.96l-1.37-1.37c-.4-.4-.92-.59-1.43-.59-.52 0-1.04.2-1.43.59L10.3 9.45l-7.72 7.72c-.78.78-.78 2.05 0 2.83L4 21.41c.39.39.9.59 1.41.59.51 0 1.02-.2 1.41-.59l7.78-7.78 2.81-2.81c.8-.78.8-2.07 0-2.86zM5.41 20L4 18.59l7.72-7.72 1.47 1.35L5.41 20z\"/>\n",
              "  </svg>\n",
              "      </button>\n",
              "      \n",
              "  <style>\n",
              "    .colab-df-container {\n",
              "      display:flex;\n",
              "      flex-wrap:wrap;\n",
              "      gap: 12px;\n",
              "    }\n",
              "\n",
              "    .colab-df-convert {\n",
              "      background-color: #E8F0FE;\n",
              "      border: none;\n",
              "      border-radius: 50%;\n",
              "      cursor: pointer;\n",
              "      display: none;\n",
              "      fill: #1967D2;\n",
              "      height: 32px;\n",
              "      padding: 0 0 0 0;\n",
              "      width: 32px;\n",
              "    }\n",
              "\n",
              "    .colab-df-convert:hover {\n",
              "      background-color: #E2EBFA;\n",
              "      box-shadow: 0px 1px 2px rgba(60, 64, 67, 0.3), 0px 1px 3px 1px rgba(60, 64, 67, 0.15);\n",
              "      fill: #174EA6;\n",
              "    }\n",
              "\n",
              "    [theme=dark] .colab-df-convert {\n",
              "      background-color: #3B4455;\n",
              "      fill: #D2E3FC;\n",
              "    }\n",
              "\n",
              "    [theme=dark] .colab-df-convert:hover {\n",
              "      background-color: #434B5C;\n",
              "      box-shadow: 0px 1px 3px 1px rgba(0, 0, 0, 0.15);\n",
              "      filter: drop-shadow(0px 1px 2px rgba(0, 0, 0, 0.3));\n",
              "      fill: #FFFFFF;\n",
              "    }\n",
              "  </style>\n",
              "\n",
              "      <script>\n",
              "        const buttonEl =\n",
              "          document.querySelector('#df-7f202851-fa93-4da4-9d44-5446317a05b2 button.colab-df-convert');\n",
              "        buttonEl.style.display =\n",
              "          google.colab.kernel.accessAllowed ? 'block' : 'none';\n",
              "\n",
              "        async function convertToInteractive(key) {\n",
              "          const element = document.querySelector('#df-7f202851-fa93-4da4-9d44-5446317a05b2');\n",
              "          const dataTable =\n",
              "            await google.colab.kernel.invokeFunction('convertToInteractive',\n",
              "                                                     [key], {});\n",
              "          if (!dataTable) return;\n",
              "\n",
              "          const docLinkHtml = 'Like what you see? Visit the ' +\n",
              "            '<a target=\"_blank\" href=https://colab.research.google.com/notebooks/data_table.ipynb>data table notebook</a>'\n",
              "            + ' to learn more about interactive tables.';\n",
              "          element.innerHTML = '';\n",
              "          dataTable['output_type'] = 'display_data';\n",
              "          await google.colab.output.renderOutput(dataTable, element);\n",
              "          const docLink = document.createElement('div');\n",
              "          docLink.innerHTML = docLinkHtml;\n",
              "          element.appendChild(docLink);\n",
              "        }\n",
              "      </script>\n",
              "    </div>\n",
              "  </div>\n",
              "  "
            ]
          },
          "metadata": {},
          "execution_count": 7
        }
      ]
    },
    {
      "cell_type": "markdown",
      "source": [
        "###Verificando se o dataset possui valores NaN"
      ],
      "metadata": {
        "id": "TwtcD3tyHQY_"
      }
    },
    {
      "cell_type": "code",
      "source": [
        "dataset.isnull().values.any()"
      ],
      "metadata": {
        "colab": {
          "base_uri": "https://localhost:8080/"
        },
        "id": "z97MaQvsHP8U",
        "outputId": "9f0b2a98-e617-43c3-bd66-cd0c42314c3b"
      },
      "execution_count": null,
      "outputs": [
        {
          "output_type": "execute_result",
          "data": {
            "text/plain": [
              "False"
            ]
          },
          "metadata": {},
          "execution_count": 8
        }
      ]
    },
    {
      "cell_type": "markdown",
      "source": [
        "### Há desbalancemanto de classes pois, como podemos ver no plot a seguir, a grande maioria das amostras encontram-se na classe 0."
      ],
      "metadata": {
        "id": "QZq1lKXxXOV4"
      }
    },
    {
      "cell_type": "code",
      "source": [
        "sns.countplot(dataset['targets'])"
      ],
      "metadata": {
        "colab": {
          "base_uri": "https://localhost:8080/",
          "height": 351
        },
        "id": "ugbIiQxiOmiO",
        "outputId": "eb69f475-bbbc-4e88-f68a-ebe93b510803"
      },
      "execution_count": null,
      "outputs": [
        {
          "output_type": "stream",
          "name": "stderr",
          "text": [
            "/usr/local/lib/python3.7/dist-packages/seaborn/_decorators.py:43: FutureWarning: Pass the following variable as a keyword arg: x. From version 0.12, the only valid positional argument will be `data`, and passing other arguments without an explicit keyword will result in an error or misinterpretation.\n",
            "  FutureWarning\n"
          ]
        },
        {
          "output_type": "execute_result",
          "data": {
            "text/plain": [
              "<matplotlib.axes._subplots.AxesSubplot at 0x7f3e0ef2f510>"
            ]
          },
          "metadata": {},
          "execution_count": 9
        },
        {
          "output_type": "display_data",
          "data": {
            "text/plain": [
              "<Figure size 432x288 with 1 Axes>"
            ],
            "image/png": "[encoded data removed]"
          },
          "metadata": {
            "needs_background": "light"
          }
        }
      ]
    },
    {
      "cell_type": "markdown",
      "source": [
        "###Separando o dataframe conjuntos para treino/teste e validação"
      ],
      "metadata": {
        "id": "7K5-dmY6GzdP"
      }
    },
    {
      "cell_type": "code",
      "source": [
        "dataset_validation = dataset.sample(frac=0.2, random_state=200)\n",
        "dataset_validation = dataset_validation.reset_index()\n",
        "dataset_validation"
      ],
      "metadata": {
        "colab": {
          "base_uri": "https://localhost:8080/",
          "height": 424
        },
        "id": "TyaS1hsHir21",
        "outputId": "84a94a11-441c-4b0f-b98d-91e034d11fec"
      },
      "execution_count": null,
      "outputs": [
        {
          "output_type": "execute_result",
          "data": {
            "text/plain": [
              "      index  Unnamed: 0  col_0  col_1  col_2  col_3  col_4  col_5  col_6  \\\n",
              "0     18302       18302      0     31      0      2      0      0     -1   \n",
              "1     13483       13483      0    201      0      1      0      1      7   \n",
              "2     19900       19900      0    187      0      2      0      0      0   \n",
              "3      7568        7568      1    131      0      1      0      0      7   \n",
              "4      1382        1382      0     71      0      1      0      1      2   \n",
              "...     ...         ...    ...    ...    ...    ...    ...    ...    ...   \n",
              "4089  17479       17479      2     78      0      2      0      0      7   \n",
              "4090  17675       17675      0    256      0      4      0      0     -1   \n",
              "4091  13849       13849      0     86      0      2      0      0      7   \n",
              "4092   2573        2573      0    131      1      0      1      0      2   \n",
              "4093   5316        5316      1    122      0      1      0      1      2   \n",
              "\n",
              "      col_7  ...  col_103  col_104  col_105  col_106  col_107  col_108  \\\n",
              "0         0  ...        0        0        0        1        0        0   \n",
              "1         0  ...        0        1        0        1        0        0   \n",
              "2         0  ...        0        0        0        0        0        0   \n",
              "3         1  ...        0        0        0        0        0        0   \n",
              "4         0  ...        0        1        0        0        0        0   \n",
              "...     ...  ...      ...      ...      ...      ...      ...      ...   \n",
              "4089      2  ...        0        0        0        0        0        0   \n",
              "4090      0  ...        0        0        0        1        1        0   \n",
              "4091      0  ...        0        1        0        0        0        0   \n",
              "4092      0  ...        0        0        0        1        1        0   \n",
              "4093      1  ...        0        0        0        0        0        0   \n",
              "\n",
              "      col_109  col_110  col_111  targets  \n",
              "0           0        0        5        0  \n",
              "1           0        0       58        0  \n",
              "2           0        0        5        0  \n",
              "3           0        0        7        0  \n",
              "4           0        0       55        1  \n",
              "...       ...      ...      ...      ...  \n",
              "4089        0        0      157        0  \n",
              "4090        0        0       28        0  \n",
              "4091        0        0       57        0  \n",
              "4092        0        0       28        1  \n",
              "4093        0        0      157        1  \n",
              "\n",
              "[4094 rows x 115 columns]"
            ],
            "text/html": [
              "\n",
              "  <div id=\"df-de931f38-abc8-41f9-8571-37e0bac572a0\">\n",
              "    <div class=\"colab-df-container\">\n",
              "      <div>\n",
              "<style scoped>\n",
              "    .dataframe tbody tr th:only-of-type {\n",
              "        vertical-align: middle;\n",
              "    }\n",
              "\n",
              "    .dataframe tbody tr th {\n",
              "        vertical-align: top;\n",
              "    }\n",
              "\n",
              "    .dataframe thead th {\n",
              "        text-align: right;\n",
              "    }\n",
              "</style>\n",
              "<table border=\"1\" class=\"dataframe\">\n",
              "  <thead>\n",
              "    <tr style=\"text-align: right;\">\n",
              "      <th></th>\n",
              "      <th>index</th>\n",
              "      <th>Unnamed: 0</th>\n",
              "      <th>col_0</th>\n",
              "      <th>col_1</th>\n",
              "      <th>col_2</th>\n",
              "      <th>col_3</th>\n",
              "      <th>col_4</th>\n",
              "      <th>col_5</th>\n",
              "      <th>col_6</th>\n",
              "      <th>col_7</th>\n",
              "      <th>...</th>\n",
              "      <th>col_103</th>\n",
              "      <th>col_104</th>\n",
              "      <th>col_105</th>\n",
              "      <th>col_106</th>\n",
              "      <th>col_107</th>\n",
              "      <th>col_108</th>\n",
              "      <th>col_109</th>\n",
              "      <th>col_110</th>\n",
              "      <th>col_111</th>\n",
              "      <th>targets</th>\n",
              "    </tr>\n",
              "  </thead>\n",
              "  <tbody>\n",
              "    <tr>\n",
              "      <th>0</th>\n",
              "      <td>18302</td>\n",
              "      <td>18302</td>\n",
              "      <td>0</td>\n",
              "      <td>31</td>\n",
              "      <td>0</td>\n",
              "      <td>2</td>\n",
              "      <td>0</td>\n",
              "      <td>0</td>\n",
              "      <td>-1</td>\n",
              "      <td>0</td>\n",
              "      <td>...</td>\n",
              "      <td>0</td>\n",
              "      <td>0</td>\n",
              "      <td>0</td>\n",
              "      <td>1</td>\n",
              "      <td>0</td>\n",
              "      <td>0</td>\n",
              "      <td>0</td>\n",
              "      <td>0</td>\n",
              "      <td>5</td>\n",
              "      <td>0</td>\n",
              "    </tr>\n",
              "    <tr>\n",
              "      <th>1</th>\n",
              "      <td>13483</td>\n",
              "      <td>13483</td>\n",
              "      <td>0</td>\n",
              "      <td>201</td>\n",
              "      <td>0</td>\n",
              "      <td>1</td>\n",
              "      <td>0</td>\n",
              "      <td>1</td>\n",
              "      <td>7</td>\n",
              "      <td>0</td>\n",
              "      <td>...</td>\n",
              "      <td>0</td>\n",
              "      <td>1</td>\n",
              "      <td>0</td>\n",
              "      <td>1</td>\n",
              "      <td>0</td>\n",
              "      <td>0</td>\n",
              "      <td>0</td>\n",
              "      <td>0</td>\n",
              "      <td>58</td>\n",
              "      <td>0</td>\n",
              "    </tr>\n",
              "    <tr>\n",
              "      <th>2</th>\n",
              "      <td>19900</td>\n",
              "      <td>19900</td>\n",
              "      <td>0</td>\n",
              "      <td>187</td>\n",
              "      <td>0</td>\n",
              "      <td>2</td>\n",
              "      <td>0</td>\n",
              "      <td>0</td>\n",
              "      <td>0</td>\n",
              "      <td>0</td>\n",
              "      <td>...</td>\n",
              "      <td>0</td>\n",
              "      <td>0</td>\n",
              "      <td>0</td>\n",
              "      <td>0</td>\n",
              "      <td>0</td>\n",
              "      <td>0</td>\n",
              "      <td>0</td>\n",
              "      <td>0</td>\n",
              "      <td>5</td>\n",
              "      <td>0</td>\n",
              "    </tr>\n",
              "    <tr>\n",
              "      <th>3</th>\n",
              "      <td>7568</td>\n",
              "      <td>7568</td>\n",
              "      <td>1</td>\n",
              "      <td>131</td>\n",
              "      <td>0</td>\n",
              "      <td>1</td>\n",
              "      <td>0</td>\n",
              "      <td>0</td>\n",
              "      <td>7</td>\n",
              "      <td>1</td>\n",
              "      <td>...</td>\n",
              "      <td>0</td>\n",
              "      <td>0</td>\n",
              "      <td>0</td>\n",
              "      <td>0</td>\n",
              "      <td>0</td>\n",
              "      <td>0</td>\n",
              "      <td>0</td>\n",
              "      <td>0</td>\n",
              "      <td>7</td>\n",
              "      <td>0</td>\n",
              "    </tr>\n",
              "    <tr>\n",
              "      <th>4</th>\n",
              "      <td>1382</td>\n",
              "      <td>1382</td>\n",
              "      <td>0</td>\n",
              "      <td>71</td>\n",
              "      <td>0</td>\n",
              "      <td>1</td>\n",
              "      <td>0</td>\n",
              "      <td>1</td>\n",
              "      <td>2</td>\n",
              "      <td>0</td>\n",
              "      <td>...</td>\n",
              "      <td>0</td>\n",
              "      <td>1</td>\n",
              "      <td>0</td>\n",
              "      <td>0</td>\n",
              "      <td>0</td>\n",
              "      <td>0</td>\n",
              "      <td>0</td>\n",
              "      <td>0</td>\n",
              "      <td>55</td>\n",
              "      <td>1</td>\n",
              "    </tr>\n",
              "    <tr>\n",
              "      <th>...</th>\n",
              "      <td>...</td>\n",
              "      <td>...</td>\n",
              "      <td>...</td>\n",
              "      <td>...</td>\n",
              "      <td>...</td>\n",
              "      <td>...</td>\n",
              "      <td>...</td>\n",
              "      <td>...</td>\n",
              "      <td>...</td>\n",
              "      <td>...</td>\n",
              "      <td>...</td>\n",
              "      <td>...</td>\n",
              "      <td>...</td>\n",
              "      <td>...</td>\n",
              "      <td>...</td>\n",
              "      <td>...</td>\n",
              "      <td>...</td>\n",
              "      <td>...</td>\n",
              "      <td>...</td>\n",
              "      <td>...</td>\n",
              "      <td>...</td>\n",
              "    </tr>\n",
              "    <tr>\n",
              "      <th>4089</th>\n",
              "      <td>17479</td>\n",
              "      <td>17479</td>\n",
              "      <td>2</td>\n",
              "      <td>78</td>\n",
              "      <td>0</td>\n",
              "      <td>2</td>\n",
              "      <td>0</td>\n",
              "      <td>0</td>\n",
              "      <td>7</td>\n",
              "      <td>2</td>\n",
              "      <td>...</td>\n",
              "      <td>0</td>\n",
              "      <td>0</td>\n",
              "      <td>0</td>\n",
              "      <td>0</td>\n",
              "      <td>0</td>\n",
              "      <td>0</td>\n",
              "      <td>0</td>\n",
              "      <td>0</td>\n",
              "      <td>157</td>\n",
              "      <td>0</td>\n",
              "    </tr>\n",
              "    <tr>\n",
              "      <th>4090</th>\n",
              "      <td>17675</td>\n",
              "      <td>17675</td>\n",
              "      <td>0</td>\n",
              "      <td>256</td>\n",
              "      <td>0</td>\n",
              "      <td>4</td>\n",
              "      <td>0</td>\n",
              "      <td>0</td>\n",
              "      <td>-1</td>\n",
              "      <td>0</td>\n",
              "      <td>...</td>\n",
              "      <td>0</td>\n",
              "      <td>0</td>\n",
              "      <td>0</td>\n",
              "      <td>1</td>\n",
              "      <td>1</td>\n",
              "      <td>0</td>\n",
              "      <td>0</td>\n",
              "      <td>0</td>\n",
              "      <td>28</td>\n",
              "      <td>0</td>\n",
              "    </tr>\n",
              "    <tr>\n",
              "      <th>4091</th>\n",
              "      <td>13849</td>\n",
              "      <td>13849</td>\n",
              "      <td>0</td>\n",
              "      <td>86</td>\n",
              "      <td>0</td>\n",
              "      <td>2</td>\n",
              "      <td>0</td>\n",
              "      <td>0</td>\n",
              "      <td>7</td>\n",
              "      <td>0</td>\n",
              "      <td>...</td>\n",
              "      <td>0</td>\n",
              "      <td>1</td>\n",
              "      <td>0</td>\n",
              "      <td>0</td>\n",
              "      <td>0</td>\n",
              "      <td>0</td>\n",
              "      <td>0</td>\n",
              "      <td>0</td>\n",
              "      <td>57</td>\n",
              "      <td>0</td>\n",
              "    </tr>\n",
              "    <tr>\n",
              "      <th>4092</th>\n",
              "      <td>2573</td>\n",
              "      <td>2573</td>\n",
              "      <td>0</td>\n",
              "      <td>131</td>\n",
              "      <td>1</td>\n",
              "      <td>0</td>\n",
              "      <td>1</td>\n",
              "      <td>0</td>\n",
              "      <td>2</td>\n",
              "      <td>0</td>\n",
              "      <td>...</td>\n",
              "      <td>0</td>\n",
              "      <td>0</td>\n",
              "      <td>0</td>\n",
              "      <td>1</td>\n",
              "      <td>1</td>\n",
              "      <td>0</td>\n",
              "      <td>0</td>\n",
              "      <td>0</td>\n",
              "      <td>28</td>\n",
              "      <td>1</td>\n",
              "    </tr>\n",
              "    <tr>\n",
              "      <th>4093</th>\n",
              "      <td>5316</td>\n",
              "      <td>5316</td>\n",
              "      <td>1</td>\n",
              "      <td>122</td>\n",
              "      <td>0</td>\n",
              "      <td>1</td>\n",
              "      <td>0</td>\n",
              "      <td>1</td>\n",
              "      <td>2</td>\n",
              "      <td>1</td>\n",
              "      <td>...</td>\n",
              "      <td>0</td>\n",
              "      <td>0</td>\n",
              "      <td>0</td>\n",
              "      <td>0</td>\n",
              "      <td>0</td>\n",
              "      <td>0</td>\n",
              "      <td>0</td>\n",
              "      <td>0</td>\n",
              "      <td>157</td>\n",
              "      <td>1</td>\n",
              "    </tr>\n",
              "  </tbody>\n",
              "</table>\n",
              "<p>4094 rows × 115 columns</p>\n",
              "</div>\n",
              "      <button class=\"colab-df-convert\" onclick=\"convertToInteractive('df-de931f38-abc8-41f9-8571-37e0bac572a0')\"\n",
              "              title=\"Convert this dataframe to an interactive table.\"\n",
              "              style=\"display:none;\">\n",
              "        \n",
              "  <svg xmlns=\"http://www.w3.org/2000/svg\" height=\"24px\"viewBox=\"0 0 24 24\"\n",
              "       width=\"24px\">\n",
              "    <path d=\"M0 0h24v24H0V0z\" fill=\"none\"/>\n",
              "    <path d=\"M18.56 5.44l.94 2.06.94-2.06 2.06-.94-2.06-.94-.94-2.06-.94 2.06-2.06.94zm-11 1L8.5 8.5l.94-2.06 2.06-.94-2.06-.94L8.5 2.5l-.94 2.06-2.06.94zm10 10l.94 2.06.94-2.06 2.06-.94-2.06-.94-.94-2.06-.94 2.06-2.06.94z\"/><path d=\"M17.41 7.96l-1.37-1.37c-.4-.4-.92-.59-1.43-.59-.52 0-1.04.2-1.43.59L10.3 9.45l-7.72 7.72c-.78.78-.78 2.05 0 2.83L4 21.41c.39.39.9.59 1.41.59.51 0 1.02-.2 1.41-.59l7.78-7.78 2.81-2.81c.8-.78.8-2.07 0-2.86zM5.41 20L4 18.59l7.72-7.72 1.47 1.35L5.41 20z\"/>\n",
              "  </svg>\n",
              "      </button>\n",
              "      \n",
              "  <style>\n",
              "    .colab-df-container {\n",
              "      display:flex;\n",
              "      flex-wrap:wrap;\n",
              "      gap: 12px;\n",
              "    }\n",
              "\n",
              "    .colab-df-convert {\n",
              "      background-color: #E8F0FE;\n",
              "      border: none;\n",
              "      border-radius: 50%;\n",
              "      cursor: pointer;\n",
              "      display: none;\n",
              "      fill: #1967D2;\n",
              "      height: 32px;\n",
              "      padding: 0 0 0 0;\n",
              "      width: 32px;\n",
              "    }\n",
              "\n",
              "    .colab-df-convert:hover {\n",
              "      background-color: #E2EBFA;\n",
              "      box-shadow: 0px 1px 2px rgba(60, 64, 67, 0.3), 0px 1px 3px 1px rgba(60, 64, 67, 0.15);\n",
              "      fill: #174EA6;\n",
              "    }\n",
              "\n",
              "    [theme=dark] .colab-df-convert {\n",
              "      background-color: #3B4455;\n",
              "      fill: #D2E3FC;\n",
              "    }\n",
              "\n",
              "    [theme=dark] .colab-df-convert:hover {\n",
              "      background-color: #434B5C;\n",
              "      box-shadow: 0px 1px 3px 1px rgba(0, 0, 0, 0.15);\n",
              "      filter: drop-shadow(0px 1px 2px rgba(0, 0, 0, 0.3));\n",
              "      fill: #FFFFFF;\n",
              "    }\n",
              "  </style>\n",
              "\n",
              "      <script>\n",
              "        const buttonEl =\n",
              "          document.querySelector('#df-de931f38-abc8-41f9-8571-37e0bac572a0 button.colab-df-convert');\n",
              "        buttonEl.style.display =\n",
              "          google.colab.kernel.accessAllowed ? 'block' : 'none';\n",
              "\n",
              "        async function convertToInteractive(key) {\n",
              "          const element = document.querySelector('#df-de931f38-abc8-41f9-8571-37e0bac572a0');\n",
              "          const dataTable =\n",
              "            await google.colab.kernel.invokeFunction('convertToInteractive',\n",
              "                                                     [key], {});\n",
              "          if (!dataTable) return;\n",
              "\n",
              "          const docLinkHtml = 'Like what you see? Visit the ' +\n",
              "            '<a target=\"_blank\" href=https://colab.research.google.com/notebooks/data_table.ipynb>data table notebook</a>'\n",
              "            + ' to learn more about interactive tables.';\n",
              "          element.innerHTML = '';\n",
              "          dataTable['output_type'] = 'display_data';\n",
              "          await google.colab.output.renderOutput(dataTable, element);\n",
              "          const docLink = document.createElement('div');\n",
              "          docLink.innerHTML = docLinkHtml;\n",
              "          element.appendChild(docLink);\n",
              "        }\n",
              "      </script>\n",
              "    </div>\n",
              "  </div>\n",
              "  "
            ]
          },
          "metadata": {},
          "execution_count": 52
        }
      ]
    },
    {
      "cell_type": "code",
      "source": [
        "dataset_train_test = pd.merge(dataset, dataset_validation, how='outer', indicator=True).query(\"_merge != 'both'\").drop('_merge', axis=1).reset_index(drop=True)\n",
        "dataset_train_test"
      ],
      "metadata": {
        "colab": {
          "base_uri": "https://localhost:8080/",
          "height": 424
        },
        "id": "MFUQuQ6jjgGg",
        "outputId": "f6f3d59e-8679-48d1-e739-a6e2ddca0261"
      },
      "execution_count": null,
      "outputs": [
        {
          "output_type": "execute_result",
          "data": {
            "text/plain": [
              "       Unnamed: 0  col_0  col_1  col_2  col_3  col_4  col_5  col_6  col_7  \\\n",
              "0               0      9   1354      0     18      0      1      7      9   \n",
              "1               2      0    260      0      4      0      3      6      0   \n",
              "2               3     17    682      0      1      0      0      8     17   \n",
              "3               4      1    540      0      2      0      1      7      1   \n",
              "4               5      0     11      0      0      1      0      4      0   \n",
              "...           ...    ...    ...    ...    ...    ...    ...    ...    ...   \n",
              "16369       20462      0     53      0      0      0      2      4      0   \n",
              "16370       20463      0     88      0      0      0      2     -1      0   \n",
              "16371       20465      4    393      1      1      0      0     -1      4   \n",
              "16372       20466      0     10      0      1      0      0     -1      0   \n",
              "16373       20467      4    399      0      3      0      1      7      4   \n",
              "\n",
              "       col_8  ...  col_103  col_104  col_105  col_106  col_107  col_108  \\\n",
              "0          0  ...        0        0        0        1        1        0   \n",
              "1          0  ...        0        0        0        1        1        0   \n",
              "2          0  ...        0        1        0        1        1        0   \n",
              "3          0  ...        0        0        0        1        1        0   \n",
              "4          0  ...        0        1        0        0        0        0   \n",
              "...      ...  ...      ...      ...      ...      ...      ...      ...   \n",
              "16369      0  ...        0        1        0        1        1        0   \n",
              "16370      0  ...        0        1        0        0        0        0   \n",
              "16371      0  ...        0        1        0        0        0        0   \n",
              "16372      0  ...        0        0        0        0        0        0   \n",
              "16373      0  ...        0        1        0        1        1        0   \n",
              "\n",
              "       col_109  col_110  col_111  targets  \n",
              "0            0        0       49        1  \n",
              "1            0        0       56        1  \n",
              "2            0        0       65        1  \n",
              "3            0        0      175        1  \n",
              "4            1        0       95        1  \n",
              "...        ...      ...      ...      ...  \n",
              "16369        0        0       68        0  \n",
              "16370        1        0       85        0  \n",
              "16371        0        0       45        0  \n",
              "16372        0        0        5        0  \n",
              "16373        0        0       72        0  \n",
              "\n",
              "[16374 rows x 114 columns]"
            ],
            "text/html": [
              "\n",
              "  <div id=\"df-aa1fcd66-e757-4265-adb5-d91905054a9b\">\n",
              "    <div class=\"colab-df-container\">\n",
              "      <div>\n",
              "<style scoped>\n",
              "    .dataframe tbody tr th:only-of-type {\n",
              "        vertical-align: middle;\n",
              "    }\n",
              "\n",
              "    .dataframe tbody tr th {\n",
              "        vertical-align: top;\n",
              "    }\n",
              "\n",
              "    .dataframe thead th {\n",
              "        text-align: right;\n",
              "    }\n",
              "</style>\n",
              "<table border=\"1\" class=\"dataframe\">\n",
              "  <thead>\n",
              "    <tr style=\"text-align: right;\">\n",
              "      <th></th>\n",
              "      <th>Unnamed: 0</th>\n",
              "      <th>col_0</th>\n",
              "      <th>col_1</th>\n",
              "      <th>col_2</th>\n",
              "      <th>col_3</th>\n",
              "      <th>col_4</th>\n",
              "      <th>col_5</th>\n",
              "      <th>col_6</th>\n",
              "      <th>col_7</th>\n",
              "      <th>col_8</th>\n",
              "      <th>...</th>\n",
              "      <th>col_103</th>\n",
              "      <th>col_104</th>\n",
              "      <th>col_105</th>\n",
              "      <th>col_106</th>\n",
              "      <th>col_107</th>\n",
              "      <th>col_108</th>\n",
              "      <th>col_109</th>\n",
              "      <th>col_110</th>\n",
              "      <th>col_111</th>\n",
              "      <th>targets</th>\n",
              "    </tr>\n",
              "  </thead>\n",
              "  <tbody>\n",
              "    <tr>\n",
              "      <th>0</th>\n",
              "      <td>0</td>\n",
              "      <td>9</td>\n",
              "      <td>1354</td>\n",
              "      <td>0</td>\n",
              "      <td>18</td>\n",
              "      <td>0</td>\n",
              "      <td>1</td>\n",
              "      <td>7</td>\n",
              "      <td>9</td>\n",
              "      <td>0</td>\n",
              "      <td>...</td>\n",
              "      <td>0</td>\n",
              "      <td>0</td>\n",
              "      <td>0</td>\n",
              "      <td>1</td>\n",
              "      <td>1</td>\n",
              "      <td>0</td>\n",
              "      <td>0</td>\n",
              "      <td>0</td>\n",
              "      <td>49</td>\n",
              "      <td>1</td>\n",
              "    </tr>\n",
              "    <tr>\n",
              "      <th>1</th>\n",
              "      <td>2</td>\n",
              "      <td>0</td>\n",
              "      <td>260</td>\n",
              "      <td>0</td>\n",
              "      <td>4</td>\n",
              "      <td>0</td>\n",
              "      <td>3</td>\n",
              "      <td>6</td>\n",
              "      <td>0</td>\n",
              "      <td>0</td>\n",
              "      <td>...</td>\n",
              "      <td>0</td>\n",
              "      <td>0</td>\n",
              "      <td>0</td>\n",
              "      <td>1</td>\n",
              "      <td>1</td>\n",
              "      <td>0</td>\n",
              "      <td>0</td>\n",
              "      <td>0</td>\n",
              "      <td>56</td>\n",
              "      <td>1</td>\n",
              "    </tr>\n",
              "    <tr>\n",
              "      <th>2</th>\n",
              "      <td>3</td>\n",
              "      <td>17</td>\n",
              "      <td>682</td>\n",
              "      <td>0</td>\n",
              "      <td>1</td>\n",
              "      <td>0</td>\n",
              "      <td>0</td>\n",
              "      <td>8</td>\n",
              "      <td>17</td>\n",
              "      <td>0</td>\n",
              "      <td>...</td>\n",
              "      <td>0</td>\n",
              "      <td>1</td>\n",
              "      <td>0</td>\n",
              "      <td>1</td>\n",
              "      <td>1</td>\n",
              "      <td>0</td>\n",
              "      <td>0</td>\n",
              "      <td>0</td>\n",
              "      <td>65</td>\n",
              "      <td>1</td>\n",
              "    </tr>\n",
              "    <tr>\n",
              "      <th>3</th>\n",
              "      <td>4</td>\n",
              "      <td>1</td>\n",
              "      <td>540</td>\n",
              "      <td>0</td>\n",
              "      <td>2</td>\n",
              "      <td>0</td>\n",
              "      <td>1</td>\n",
              "      <td>7</td>\n",
              "      <td>1</td>\n",
              "      <td>0</td>\n",
              "      <td>...</td>\n",
              "      <td>0</td>\n",
              "      <td>0</td>\n",
              "      <td>0</td>\n",
              "      <td>1</td>\n",
              "      <td>1</td>\n",
              "      <td>0</td>\n",
              "      <td>0</td>\n",
              "      <td>0</td>\n",
              "      <td>175</td>\n",
              "      <td>1</td>\n",
              "    </tr>\n",
              "    <tr>\n",
              "      <th>4</th>\n",
              "      <td>5</td>\n",
              "      <td>0</td>\n",
              "      <td>11</td>\n",
              "      <td>0</td>\n",
              "      <td>0</td>\n",
              "      <td>1</td>\n",
              "      <td>0</td>\n",
              "      <td>4</td>\n",
              "      <td>0</td>\n",
              "      <td>0</td>\n",
              "      <td>...</td>\n",
              "      <td>0</td>\n",
              "      <td>1</td>\n",
              "      <td>0</td>\n",
              "      <td>0</td>\n",
              "      <td>0</td>\n",
              "      <td>0</td>\n",
              "      <td>1</td>\n",
              "      <td>0</td>\n",
              "      <td>95</td>\n",
              "      <td>1</td>\n",
              "    </tr>\n",
              "    <tr>\n",
              "      <th>...</th>\n",
              "      <td>...</td>\n",
              "      <td>...</td>\n",
              "      <td>...</td>\n",
              "      <td>...</td>\n",
              "      <td>...</td>\n",
              "      <td>...</td>\n",
              "      <td>...</td>\n",
              "      <td>...</td>\n",
              "      <td>...</td>\n",
              "      <td>...</td>\n",
              "      <td>...</td>\n",
              "      <td>...</td>\n",
              "      <td>...</td>\n",
              "      <td>...</td>\n",
              "      <td>...</td>\n",
              "      <td>...</td>\n",
              "      <td>...</td>\n",
              "      <td>...</td>\n",
              "      <td>...</td>\n",
              "      <td>...</td>\n",
              "      <td>...</td>\n",
              "    </tr>\n",
              "    <tr>\n",
              "      <th>16369</th>\n",
              "      <td>20462</td>\n",
              "      <td>0</td>\n",
              "      <td>53</td>\n",
              "      <td>0</td>\n",
              "      <td>0</td>\n",
              "      <td>0</td>\n",
              "      <td>2</td>\n",
              "      <td>4</td>\n",
              "      <td>0</td>\n",
              "      <td>0</td>\n",
              "      <td>...</td>\n",
              "      <td>0</td>\n",
              "      <td>1</td>\n",
              "      <td>0</td>\n",
              "      <td>1</td>\n",
              "      <td>1</td>\n",
              "      <td>0</td>\n",
              "      <td>0</td>\n",
              "      <td>0</td>\n",
              "      <td>68</td>\n",
              "      <td>0</td>\n",
              "    </tr>\n",
              "    <tr>\n",
              "      <th>16370</th>\n",
              "      <td>20463</td>\n",
              "      <td>0</td>\n",
              "      <td>88</td>\n",
              "      <td>0</td>\n",
              "      <td>0</td>\n",
              "      <td>0</td>\n",
              "      <td>2</td>\n",
              "      <td>-1</td>\n",
              "      <td>0</td>\n",
              "      <td>0</td>\n",
              "      <td>...</td>\n",
              "      <td>0</td>\n",
              "      <td>1</td>\n",
              "      <td>0</td>\n",
              "      <td>0</td>\n",
              "      <td>0</td>\n",
              "      <td>0</td>\n",
              "      <td>1</td>\n",
              "      <td>0</td>\n",
              "      <td>85</td>\n",
              "      <td>0</td>\n",
              "    </tr>\n",
              "    <tr>\n",
              "      <th>16371</th>\n",
              "      <td>20465</td>\n",
              "      <td>4</td>\n",
              "      <td>393</td>\n",
              "      <td>1</td>\n",
              "      <td>1</td>\n",
              "      <td>0</td>\n",
              "      <td>0</td>\n",
              "      <td>-1</td>\n",
              "      <td>4</td>\n",
              "      <td>0</td>\n",
              "      <td>...</td>\n",
              "      <td>0</td>\n",
              "      <td>1</td>\n",
              "      <td>0</td>\n",
              "      <td>0</td>\n",
              "      <td>0</td>\n",
              "      <td>0</td>\n",
              "      <td>0</td>\n",
              "      <td>0</td>\n",
              "      <td>45</td>\n",
              "      <td>0</td>\n",
              "    </tr>\n",
              "    <tr>\n",
              "      <th>16372</th>\n",
              "      <td>20466</td>\n",
              "      <td>0</td>\n",
              "      <td>10</td>\n",
              "      <td>0</td>\n",
              "      <td>1</td>\n",
              "      <td>0</td>\n",
              "      <td>0</td>\n",
              "      <td>-1</td>\n",
              "      <td>0</td>\n",
              "      <td>0</td>\n",
              "      <td>...</td>\n",
              "      <td>0</td>\n",
              "      <td>0</td>\n",
              "      <td>0</td>\n",
              "      <td>0</td>\n",
              "      <td>0</td>\n",
              "      <td>0</td>\n",
              "      <td>0</td>\n",
              "      <td>0</td>\n",
              "      <td>5</td>\n",
              "      <td>0</td>\n",
              "    </tr>\n",
              "    <tr>\n",
              "      <th>16373</th>\n",
              "      <td>20467</td>\n",
              "      <td>4</td>\n",
              "      <td>399</td>\n",
              "      <td>0</td>\n",
              "      <td>3</td>\n",
              "      <td>0</td>\n",
              "      <td>1</td>\n",
              "      <td>7</td>\n",
              "      <td>4</td>\n",
              "      <td>0</td>\n",
              "      <td>...</td>\n",
              "      <td>0</td>\n",
              "      <td>1</td>\n",
              "      <td>0</td>\n",
              "      <td>1</td>\n",
              "      <td>1</td>\n",
              "      <td>0</td>\n",
              "      <td>0</td>\n",
              "      <td>0</td>\n",
              "      <td>72</td>\n",
              "      <td>0</td>\n",
              "    </tr>\n",
              "  </tbody>\n",
              "</table>\n",
              "<p>16374 rows × 114 columns</p>\n",
              "</div>\n",
              "      <button class=\"colab-df-convert\" onclick=\"convertToInteractive('df-aa1fcd66-e757-4265-adb5-d91905054a9b')\"\n",
              "              title=\"Convert this dataframe to an interactive table.\"\n",
              "              style=\"display:none;\">\n",
              "        \n",
              "  <svg xmlns=\"http://www.w3.org/2000/svg\" height=\"24px\"viewBox=\"0 0 24 24\"\n",
              "       width=\"24px\">\n",
              "    <path d=\"M0 0h24v24H0V0z\" fill=\"none\"/>\n",
              "    <path d=\"M18.56 5.44l.94 2.06.94-2.06 2.06-.94-2.06-.94-.94-2.06-.94 2.06-2.06.94zm-11 1L8.5 8.5l.94-2.06 2.06-.94-2.06-.94L8.5 2.5l-.94 2.06-2.06.94zm10 10l.94 2.06.94-2.06 2.06-.94-2.06-.94-.94-2.06-.94 2.06-2.06.94z\"/><path d=\"M17.41 7.96l-1.37-1.37c-.4-.4-.92-.59-1.43-.59-.52 0-1.04.2-1.43.59L10.3 9.45l-7.72 7.72c-.78.78-.78 2.05 0 2.83L4 21.41c.39.39.9.59 1.41.59.51 0 1.02-.2 1.41-.59l7.78-7.78 2.81-2.81c.8-.78.8-2.07 0-2.86zM5.41 20L4 18.59l7.72-7.72 1.47 1.35L5.41 20z\"/>\n",
              "  </svg>\n",
              "      </button>\n",
              "      \n",
              "  <style>\n",
              "    .colab-df-container {\n",
              "      display:flex;\n",
              "      flex-wrap:wrap;\n",
              "      gap: 12px;\n",
              "    }\n",
              "\n",
              "    .colab-df-convert {\n",
              "      background-color: #E8F0FE;\n",
              "      border: none;\n",
              "      border-radius: 50%;\n",
              "      cursor: pointer;\n",
              "      display: none;\n",
              "      fill: #1967D2;\n",
              "      height: 32px;\n",
              "      padding: 0 0 0 0;\n",
              "      width: 32px;\n",
              "    }\n",
              "\n",
              "    .colab-df-convert:hover {\n",
              "      background-color: #E2EBFA;\n",
              "      box-shadow: 0px 1px 2px rgba(60, 64, 67, 0.3), 0px 1px 3px 1px rgba(60, 64, 67, 0.15);\n",
              "      fill: #174EA6;\n",
              "    }\n",
              "\n",
              "    [theme=dark] .colab-df-convert {\n",
              "      background-color: #3B4455;\n",
              "      fill: #D2E3FC;\n",
              "    }\n",
              "\n",
              "    [theme=dark] .colab-df-convert:hover {\n",
              "      background-color: #434B5C;\n",
              "      box-shadow: 0px 1px 3px 1px rgba(0, 0, 0, 0.15);\n",
              "      filter: drop-shadow(0px 1px 2px rgba(0, 0, 0, 0.3));\n",
              "      fill: #FFFFFF;\n",
              "    }\n",
              "  </style>\n",
              "\n",
              "      <script>\n",
              "        const buttonEl =\n",
              "          document.querySelector('#df-aa1fcd66-e757-4265-adb5-d91905054a9b button.colab-df-convert');\n",
              "        buttonEl.style.display =\n",
              "          google.colab.kernel.accessAllowed ? 'block' : 'none';\n",
              "\n",
              "        async function convertToInteractive(key) {\n",
              "          const element = document.querySelector('#df-aa1fcd66-e757-4265-adb5-d91905054a9b');\n",
              "          const dataTable =\n",
              "            await google.colab.kernel.invokeFunction('convertToInteractive',\n",
              "                                                     [key], {});\n",
              "          if (!dataTable) return;\n",
              "\n",
              "          const docLinkHtml = 'Like what you see? Visit the ' +\n",
              "            '<a target=\"_blank\" href=https://colab.research.google.com/notebooks/data_table.ipynb>data table notebook</a>'\n",
              "            + ' to learn more about interactive tables.';\n",
              "          element.innerHTML = '';\n",
              "          dataTable['output_type'] = 'display_data';\n",
              "          await google.colab.output.renderOutput(dataTable, element);\n",
              "          const docLink = document.createElement('div');\n",
              "          docLink.innerHTML = docLinkHtml;\n",
              "          element.appendChild(docLink);\n",
              "        }\n",
              "      </script>\n",
              "    </div>\n",
              "  </div>\n",
              "  "
            ]
          },
          "metadata": {},
          "execution_count": 11
        }
      ]
    },
    {
      "cell_type": "markdown",
      "source": [
        "###Separando as features das classes de saída"
      ],
      "metadata": {
        "id": "0pTt08eXlKuj"
      }
    },
    {
      "cell_type": "code",
      "source": [
        "features = dataset_train_test.loc[0:,'col_0':'col_111']\n",
        "targets = dataset_train_test.loc[0:, 'targets']"
      ],
      "metadata": {
        "id": "tptGkVHXW_7o"
      },
      "execution_count": null,
      "outputs": []
    },
    {
      "cell_type": "code",
      "source": [
        "features_validation = dataset_validation.loc[0:,'col_0':'col_111']\n",
        "targets_validation = dataset_validation.loc[0:, 'targets']"
      ],
      "metadata": {
        "id": "40Hf0JSuaGqz"
      },
      "execution_count": null,
      "outputs": []
    },
    {
      "cell_type": "markdown",
      "source": [
        "###Separando os conjuntos para treino e teste em uma relação 90%/10%"
      ],
      "metadata": {
        "id": "QPVQPoEmmAHn"
      }
    },
    {
      "cell_type": "code",
      "source": [
        "from sklearn.model_selection import train_test_split\n",
        "X_train, X_test, y_train, y_test = train_test_split(features, targets, test_size=0.1)"
      ],
      "metadata": {
        "id": "sBweP-BGGSiu"
      },
      "execution_count": null,
      "outputs": []
    },
    {
      "cell_type": "markdown",
      "source": [
        "#**Primeiro modelo: KNN**\n"
      ],
      "metadata": {
        "id": "roMapEecaKwj"
      }
    },
    {
      "cell_type": "markdown",
      "source": [
        "###Construção do modelo. Serão usados valores de K iguais a 1, 5, 10 e 20"
      ],
      "metadata": {
        "id": "hLQZUMl4pLw1"
      }
    },
    {
      "cell_type": "code",
      "source": [
        "from sklearn.neighbors import KNeighborsClassifier\n",
        "from sklearn import metrics"
      ],
      "metadata": {
        "id": "kJiXPVg_HfB3"
      },
      "execution_count": null,
      "outputs": []
    },
    {
      "cell_type": "code",
      "source": [
        "knn1 = KNeighborsClassifier(n_neighbors=1)\n",
        "knn5 = KNeighborsClassifier(n_neighbors=5)\n",
        "knn10 = KNeighborsClassifier(n_neighbors=10)\n",
        "knn20 = KNeighborsClassifier(n_neighbors=20)"
      ],
      "metadata": {
        "id": "mXpI8r6uphWx"
      },
      "execution_count": null,
      "outputs": []
    },
    {
      "cell_type": "markdown",
      "source": [
        "###Treinando"
      ],
      "metadata": {
        "id": "qPHdY-z6qEig"
      }
    },
    {
      "cell_type": "code",
      "source": [
        "knn1.fit(X_train, y_train)\n",
        "knn5.fit(X_train, y_train)\n",
        "knn10.fit(X_train, y_train)\n",
        "knn20.fit(X_train, y_train)"
      ],
      "metadata": {
        "colab": {
          "base_uri": "https://localhost:8080/"
        },
        "id": "5TUZigQPpxbL",
        "outputId": "f9d1aa0b-8693-4a11-98c0-2877038a9f93"
      },
      "execution_count": null,
      "outputs": [
        {
          "output_type": "execute_result",
          "data": {
            "text/plain": [
              "KNeighborsClassifier(n_neighbors=20)"
            ]
          },
          "metadata": {},
          "execution_count": 31
        }
      ]
    },
    {
      "cell_type": "markdown",
      "source": [
        "###Testando"
      ],
      "metadata": {
        "id": "bJKiG90eqYV8"
      }
    },
    {
      "cell_type": "code",
      "source": [
        "y_pred1 = knn1.predict(X_test)\n",
        "y_pred5 = knn5.predict(X_test)\n",
        "y_pred10 = knn10.predict(X_test)\n",
        "y_pred20 = knn20.predict(X_test)"
      ],
      "metadata": {
        "id": "WTkpc5KjqTN9"
      },
      "execution_count": null,
      "outputs": []
    },
    {
      "cell_type": "markdown",
      "source": [
        "###Nos resultados de acurácia a seguir, pode-se notar a leve melhora ao subir de apenas 1 para 10 vizinhos, pois agora mais pontos são levados em consideração durante a predição. Contudo, ao subir esse número, exageradamente, para 20 vizinhos, nota-se a queda de performance, pois uma área muito grande de pontos é observada. Isso indica o cuidade que se deve ter ao escolher este número, que não deve ser muito pequeno nem grande"
      ],
      "metadata": {
        "id": "cGj4BmWYrej5"
      }
    },
    {
      "cell_type": "code",
      "source": [
        "print(\"\\nK = 1\")\n",
        "print(\"\\nAcurácia:\",round(metrics.accuracy_score(y_test, y_pred1)*100, 1), \"%\")\n",
        "print(\"\\nF1 Score: \", round(metrics.f1_score(y_test, y_pred1)*100, 1), \"%\")\n",
        "print(\"\\nPrecision: \", round(metrics.precision_score(y_test, y_pred1)*100, 1), \"%\")\n",
        "print(\"\\nRecall: \", round(metrics.recall_score(y_test, y_pred1)*100, 1), \"%\")\n",
        "print(\"\\n=================================================\")\n",
        "\n",
        "print(\"\\nK = 5\")\n",
        "print(\"\\nAcurácia:\",round(metrics.accuracy_score(y_test, y_pred5)*100, 1), \"%\")\n",
        "print(\"\\nF1 Score: \", round(metrics.f1_score(y_test, y_pred5)*100, 1), \"%\")\n",
        "print(\"\\nPrecision: \", round(metrics.precision_score(y_test, y_pred5)*100, 1), \"%\")\n",
        "print(\"\\nRecall: \", round(metrics.recall_score(y_test, y_pred5)*100, 1), \"%\")\n",
        "print(\"\\n=================================================\")\n",
        "\n",
        "print(\"\\nK = 10\")\n",
        "print(\"\\nAcurácia:\",round(metrics.accuracy_score(y_test, y_pred10)*100, 1), \"%\")\n",
        "print(\"\\nF1 Score: \", round(metrics.f1_score(y_test, y_pred10)*100, 1), \"%\")\n",
        "print(\"\\nPrecision: \", round(metrics.precision_score(y_test, y_pred10)*100, 1), \"%\")\n",
        "print(\"\\nRecall: \", round(metrics.recall_score(y_test, y_pred10)*100, 1), \"%\")\n",
        "print(\"\\n=================================================\")\n",
        "\n",
        "print(\"\\nK = 20\")\n",
        "print(\"\\nAcurácia:\",round(metrics.accuracy_score(y_test, y_pred20)*100, 1), \"%\")\n",
        "print(\"\\nF1 Score: \", round(metrics.f1_score(y_test, y_pred20)*100, 1), \"%\")\n",
        "print(\"\\nPrecision: \", round(metrics.precision_score(y_test, y_pred20)*100, 1), \"%\")\n",
        "print(\"\\nRecall: \", round(metrics.recall_score(y_test, y_pred20)*100, 1), \"%\")\n",
        "print(\"\\n=================================================\")"
      ],
      "metadata": {
        "colab": {
          "base_uri": "https://localhost:8080/"
        },
        "id": "KDUdw5dHqqOd",
        "outputId": "5638bf36-4225-4a28-b193-7cc9dbc923b9"
      },
      "execution_count": null,
      "outputs": [
        {
          "output_type": "stream",
          "name": "stdout",
          "text": [
            "\n",
            "K = 1\n",
            "\n",
            "Acurácia: 81.8 %\n",
            "\n",
            "F1 Score:  66.8 %\n",
            "\n",
            "Precision:  65.4 %\n",
            "\n",
            "Recall:  68.3 %\n",
            "\n",
            "=================================================\n",
            "\n",
            "K = 5\n",
            "\n",
            "Acurácia: 84.2 %\n",
            "\n",
            "F1 Score:  68.5 %\n",
            "\n",
            "Precision:  73.4 %\n",
            "\n",
            "Recall:  64.2 %\n",
            "\n",
            "=================================================\n",
            "\n",
            "K = 10\n",
            "\n",
            "Acurácia: 86.0 %\n",
            "\n",
            "F1 Score:  70.1 %\n",
            "\n",
            "Precision:  81.6 %\n",
            "\n",
            "Recall:  61.5 %\n",
            "\n",
            "=================================================\n",
            "\n",
            "K = 20\n",
            "\n",
            "Acurácia: 84.9 %\n",
            "\n",
            "F1 Score:  68.7 %\n",
            "\n",
            "Precision:  77.4 %\n",
            "\n",
            "Recall:  61.7 %\n",
            "\n",
            "=================================================\n"
          ]
        }
      ]
    },
    {
      "cell_type": "markdown",
      "source": [
        "###Obtenção das métricas com o k-fold"
      ],
      "metadata": {
        "id": "zf6OKck8Z1zw"
      }
    },
    {
      "cell_type": "code",
      "source": [
        "from sklearn.model_selection import cross_val_score\n",
        "from sklearn.model_selection import KFold"
      ],
      "metadata": {
        "id": "RCFICxa4raQt"
      },
      "execution_count": null,
      "outputs": []
    },
    {
      "cell_type": "code",
      "source": [
        "kfold  = KFold(n_splits=10, shuffle=True) \n",
        "\n",
        "results_1 = cross_val_score(knn1, features_validation, targets_validation, cv = kfold)\n",
        "results_5 = cross_val_score(knn5, features_validation, targets_validation, cv = kfold)\n",
        "results_10 = cross_val_score(knn10, features_validation, targets_validation, cv = kfold)\n",
        "results_20 = cross_val_score(knn20, features_validation, targets_validation, cv = kfold)"
      ],
      "metadata": {
        "id": "pXKrWgRFSV_R"
      },
      "execution_count": null,
      "outputs": []
    },
    {
      "cell_type": "code",
      "source": [
        "print(\"\\nScores KNN 1: {0}\".format(results_1))\n",
        "print(\"\\nMédia: {0}%\".format(round( results_1.mean()*100, 1 )))\n",
        "print(\"\\n=======================================\")\n",
        "\n",
        "print(\"\\nScores KNN 5: {0}\".format(results_5))\n",
        "print(\"\\nMédia: {0}%\".format(round( results_5.mean()*100, 1 )))\n",
        "print(\"\\n=======================================\")\n",
        "\n",
        "print(\"\\nScores KNN 10: {0}\".format(results_10))\n",
        "print(\"\\nMédia: {0}%\".format(round( results_10.mean()*100, 1 )))\n",
        "print(\"\\n=======================================\")\n",
        "\n",
        "print(\"\\nScores KNN 20: {0}\".format(results_20))\n",
        "print(\"\\nMédia: {0}%\".format(round( results_20.mean()*100, 1 )))\n",
        "print(\"\\n=======================================\")"
      ],
      "metadata": {
        "colab": {
          "base_uri": "https://localhost:8080/"
        },
        "id": "2O8ehdygYIRV",
        "outputId": "b36588bb-8783-4111-d124-82ce45c473d7"
      },
      "execution_count": null,
      "outputs": [
        {
          "output_type": "stream",
          "name": "stdout",
          "text": [
            "\n",
            "Scores KNN 1: [0.80243902 0.79512195 0.80731707 0.81463415 0.8190709  0.78239609\n",
            " 0.81173594 0.79217604 0.79462103 0.7799511 ]\n",
            "\n",
            "Média: 80.0%\n",
            "\n",
            "=======================================\n",
            "\n",
            "Scores KNN 5: [0.85853659 0.82439024 0.84146341 0.81707317 0.8606357  0.81173594\n",
            " 0.8606357  0.83374083 0.82396088 0.83129584]\n",
            "\n",
            "Média: 83.6%\n",
            "\n",
            "=======================================\n",
            "\n",
            "Scores KNN 10: [0.85853659 0.84146341 0.81463415 0.82195122 0.83618582 0.84352078\n",
            " 0.83129584 0.83863081 0.89242054 0.84107579]\n",
            "\n",
            "Média: 84.2%\n",
            "\n",
            "=======================================\n",
            "\n",
            "Scores KNN 20: [0.82682927 0.81463415 0.81219512 0.87560976 0.84841076 0.84841076\n",
            " 0.82885086 0.82640587 0.83618582 0.86552567]\n",
            "\n",
            "Média: 83.8%\n",
            "\n",
            "=======================================\n"
          ]
        }
      ]
    },
    {
      "cell_type": "markdown",
      "source": [
        "###Observa-se que o modelo com K = 10 obteve melhores resultados"
      ],
      "metadata": {
        "id": "fEmySKqIaCPf"
      }
    },
    {
      "cell_type": "markdown",
      "source": [
        "#**Segundo modelo: Random Forests**"
      ],
      "metadata": {
        "id": "YHD0t0ntajV_"
      }
    },
    {
      "cell_type": "code",
      "source": [
        "from sklearn.ensemble import RandomForestClassifier"
      ],
      "metadata": {
        "id": "pLokpHWpYnO9"
      },
      "execution_count": null,
      "outputs": []
    },
    {
      "cell_type": "markdown",
      "source": [
        "###**Usando o modelo com seus características padrões**"
      ],
      "metadata": {
        "id": "_c3cnJv-a1K2"
      }
    },
    {
      "cell_type": "code",
      "source": [
        "model_forest = RandomForestClassifier()\n",
        "model_forest.fit(X_train, y_train)"
      ],
      "metadata": {
        "colab": {
          "base_uri": "https://localhost:8080/"
        },
        "id": "7o7uUpO6i1Ns",
        "outputId": "dc7dc29a-c4dd-448c-d067-cf0e2bbfea38"
      },
      "execution_count": null,
      "outputs": [
        {
          "output_type": "execute_result",
          "data": {
            "text/plain": [
              "RandomForestClassifier()"
            ]
          },
          "metadata": {},
          "execution_count": 69
        }
      ]
    },
    {
      "cell_type": "code",
      "source": [
        "y_pred_forest = model_forest.predict(X_test)"
      ],
      "metadata": {
        "id": "Q8-HUGUKjEV8"
      },
      "execution_count": null,
      "outputs": []
    },
    {
      "cell_type": "code",
      "source": [
        "print(\"\\nAcurácia:\",round(metrics.accuracy_score(y_test, y_pred_forest)*100, 1), \"%\")\n",
        "print(\"\\nF1 Score: \", round(metrics.f1_score(y_test, y_pred_forest)*100, 1), \"%\")\n",
        "print(\"\\nPrecision: \", round(metrics.precision_score(y_test, y_pred_forest)*100, 1), \"%\")\n",
        "print(\"\\nRecall: \", round(metrics.recall_score(y_test, y_pred_forest)*100, 1), \"%\")\n",
        "print(\"\\n=================================================\")"
      ],
      "metadata": {
        "colab": {
          "base_uri": "https://localhost:8080/"
        },
        "id": "1DTSleNVjUsx",
        "outputId": "4a401a6e-d401-464a-9aa3-a198d5fdf546"
      },
      "execution_count": null,
      "outputs": [
        {
          "output_type": "stream",
          "name": "stdout",
          "text": [
            "\n",
            "Acurácia: 92.9 %\n",
            "\n",
            "F1 Score:  85.6 %\n",
            "\n",
            "Precision:  93.3 %\n",
            "\n",
            "Recall:  79.0 %\n",
            "\n",
            "=================================================\n"
          ]
        }
      ]
    },
    {
      "cell_type": "code",
      "source": [
        "results_forest = cross_val_score(model_forest, features_validation, targets_validation, cv = kfold)"
      ],
      "metadata": {
        "id": "N5QMptOyjmXg"
      },
      "execution_count": null,
      "outputs": []
    },
    {
      "cell_type": "code",
      "source": [
        "print(\"\\nScores Random Forests: {0}\".format(results_forest))\n",
        "print(\"\\nMédia: {0}%\".format(round( results_forest.mean()*100, 1 )))\n",
        "print(\"\\n=======================================\")"
      ],
      "metadata": {
        "colab": {
          "base_uri": "https://localhost:8080/"
        },
        "id": "OW2pR9Usj_iD",
        "outputId": "d771ecd0-b150-4bb2-e1b3-175c05bfb082"
      },
      "execution_count": null,
      "outputs": [
        {
          "output_type": "stream",
          "name": "stdout",
          "text": [
            "\n",
            "Scores Random Forests: [0.94146341 0.91707317 0.92439024 0.93658537 0.9193154  0.88997555\n",
            " 0.92909535 0.90709046 0.92420538 0.92420538]\n",
            "\n",
            "Média: 92.1%\n",
            "\n",
            "=======================================\n"
          ]
        }
      ]
    },
    {
      "cell_type": "markdown",
      "source": [
        "###Os resultados acima mostram que, mesmo com os parâmetros padrões que a biblioteca nos oferece, o Random Forests já obtém resultados melhores do que o melhor caso observado quando o KNN foi usado"
      ],
      "metadata": {
        "id": "lXaQ7AltkPCm"
      }
    },
    {
      "cell_type": "markdown",
      "source": [
        "###**Tentando mellhorar os resultados com variações nos parâmetros**"
      ],
      "metadata": {
        "id": "dMG_GUhvkna6"
      }
    },
    {
      "cell_type": "markdown",
      "source": [
        "###Como indicado na própria documentação da scikit-learn ([neste link](https://scikit-learn.org/stable/modules/ensemble.html#forest)) os parâmetros mais modificados são n_estimators (que define a quantidade de árvores que serão criadas) e max_features (que limita a quantidade de features que serão observadas durante a etapa de splitting). Além delas, faremos uso também da max_depth (indicando a profundidade máxima das árvores)"
      ],
      "metadata": {
        "id": "ec8b5tQomaRV"
      }
    },
    {
      "cell_type": "markdown",
      "source": [
        "###- Variações no n_estimators:"
      ],
      "metadata": {
        "id": "XgmDsH2xnrMU"
      }
    },
    {
      "cell_type": "markdown",
      "source": [
        "####A quantidade padrão é de 100 florestas, portanto, será testado com 50, 200 e 250 florestas"
      ],
      "metadata": {
        "id": "-n31vwOHnzVu"
      }
    },
    {
      "cell_type": "code",
      "source": [
        "model_forest_50 = RandomForestClassifier(n_estimators = 50)\n",
        "model_forest_50.fit(X_train, y_train)\n",
        "\n",
        "model_forest_200 = RandomForestClassifier(n_estimators = 200)\n",
        "model_forest_200.fit(X_train, y_train)\n",
        "\n",
        "model_forest_250 = RandomForestClassifier(n_estimators = 250)\n",
        "model_forest_250.fit(X_train, y_train)"
      ],
      "metadata": {
        "colab": {
          "base_uri": "https://localhost:8080/"
        },
        "id": "8lb_eqXokK4i",
        "outputId": "d032595d-7653-4dae-b1bc-129d540807c3"
      },
      "execution_count": null,
      "outputs": [
        {
          "output_type": "execute_result",
          "data": {
            "text/plain": [
              "RandomForestClassifier(n_estimators=250)"
            ]
          },
          "metadata": {},
          "execution_count": 74
        }
      ]
    },
    {
      "cell_type": "code",
      "source": [
        "results_forest_50 = cross_val_score(model_forest_50, features_validation, targets_validation, cv = kfold)\n",
        "results_forest_200 = cross_val_score(model_forest_200, features_validation, targets_validation, cv = kfold)\n",
        "results_forest_250 = cross_val_score(model_forest_250, features_validation, targets_validation, cv = kfold)"
      ],
      "metadata": {
        "id": "nENzkMQVohCC"
      },
      "execution_count": null,
      "outputs": []
    },
    {
      "cell_type": "code",
      "source": [
        "print(\"\\nScores Random Forests 50: {0}\".format(results_forest_50))\n",
        "print(\"\\nMédia: {0}%\".format(round( results_forest_50.mean()*100, 1 )))\n",
        "print(\"\\n=======================================\")\n",
        "\n",
        "print(\"\\nScores Random Forests 200: {0}\".format(results_forest_200))\n",
        "print(\"\\nMédia: {0}%\".format(round( results_forest_200.mean()*100, 1 )))\n",
        "print(\"\\n=======================================\")\n",
        "\n",
        "print(\"\\nScores Random Forests 250: {0}\".format(results_forest_250))\n",
        "print(\"\\nMédia: {0}%\".format(round( results_forest_250.mean()*100, 1 )))\n",
        "print(\"\\n=======================================\")"
      ],
      "metadata": {
        "colab": {
          "base_uri": "https://localhost:8080/"
        },
        "id": "Pk2-H1_BozjY",
        "outputId": "3cce535e-589b-4aef-d16d-358eb61ca4d4"
      },
      "execution_count": null,
      "outputs": [
        {
          "output_type": "stream",
          "name": "stdout",
          "text": [
            "\n",
            "Scores Random Forests 50: [0.91707317 0.93414634 0.9097561  0.92195122 0.90709046 0.92665037\n",
            " 0.92420538 0.90220049 0.92909535 0.90220049]\n",
            "\n",
            "Média: 91.7%\n",
            "\n",
            "=======================================\n",
            "\n",
            "Scores Random Forests 200: [0.92439024 0.9195122  0.94878049 0.91463415 0.92420538 0.9193154\n",
            " 0.91687042 0.92665037 0.89731051 0.91198044]\n",
            "\n",
            "Média: 92.0%\n",
            "\n",
            "=======================================\n",
            "\n",
            "Scores Random Forests 250: [0.92439024 0.89512195 0.94634146 0.92682927 0.94132029 0.8997555\n",
            " 0.91442543 0.91198044 0.91442543 0.91442543]\n",
            "\n",
            "Média: 91.9%\n",
            "\n",
            "=======================================\n"
          ]
        }
      ]
    },
    {
      "cell_type": "markdown",
      "source": [
        "###O melhor resultado obtido foi com a criação de 200 florestas, contudo, com apenas 50 um resultado muito próximo foi obtido, levantando a questão se o acréscimo no custo computacional (e temporal) é válido. Para este dataset, não houve muita diferença em relação ao custo, mas para outros casos, a situação pode ser outra"
      ],
      "metadata": {
        "id": "-sdDAspopMi-"
      }
    },
    {
      "cell_type": "markdown",
      "source": [
        "###- Variações no max_features:"
      ],
      "metadata": {
        "id": "ZByn0rdVqGSD"
      }
    },
    {
      "cell_type": "markdown",
      "source": [
        "####O valor padrão é sqrt(features), ou seja, para esta dataset é 10.6"
      ],
      "metadata": {
        "id": "UtffA8tcqLeE"
      }
    },
    {
      "cell_type": "markdown",
      "source": [
        "####Será feito o experimento com log2(features) = 6.8, 20 e none (indicando que não há valor máximo, logo, todas as features são observadas"
      ],
      "metadata": {
        "id": "X07J5FRQq9Ks"
      }
    },
    {
      "cell_type": "code",
      "source": [
        "model_forest_log2 = RandomForestClassifier(max_features = \"log2\")\n",
        "model_forest_log2.fit(X_train, y_train)\n",
        "\n",
        "model_forest_20 = RandomForestClassifier(max_features = 20)\n",
        "model_forest_20.fit(X_train, y_train)\n",
        "\n",
        "model_forest_none = RandomForestClassifier(max_features = None)\n",
        "model_forest_none.fit(X_train, y_train)"
      ],
      "metadata": {
        "colab": {
          "base_uri": "https://localhost:8080/"
        },
        "id": "RVq_6lD7pFpc",
        "outputId": "a8e73f69-4198-4d5d-f281-c41075947aa7"
      },
      "execution_count": null,
      "outputs": [
        {
          "output_type": "execute_result",
          "data": {
            "text/plain": [
              "RandomForestClassifier(max_features=None)"
            ]
          },
          "metadata": {},
          "execution_count": 77
        }
      ]
    },
    {
      "cell_type": "code",
      "source": [
        "results_forest_log2 = cross_val_score(model_forest_log2, features_validation, targets_validation, cv = kfold)\n",
        "results_forest_20 = cross_val_score(model_forest_20, features_validation, targets_validation, cv = kfold)\n",
        "results_forest_none = cross_val_score(model_forest_none, features_validation, targets_validation, cv = kfold)"
      ],
      "metadata": {
        "id": "dthOrS50sRZJ"
      },
      "execution_count": null,
      "outputs": []
    },
    {
      "cell_type": "code",
      "source": [
        "print(\"\\nScores Random Forests log2: {0}\".format(results_forest_log2))\n",
        "print(\"\\nMédia: {0}%\".format(round( results_forest_log2.mean()*100, 1 )))\n",
        "print(\"\\n=======================================\")\n",
        "\n",
        "print(\"\\nScores Random Forests 20: {0}\".format(results_forest_20))\n",
        "print(\"\\nMédia: {0}%\".format(round( results_forest_20.mean()*100, 1 )))\n",
        "print(\"\\n=======================================\")\n",
        "\n",
        "print(\"\\nScores Random Forests none: {0}\".format(results_forest_none))\n",
        "print(\"\\nMédia: {0}%\".format(round( results_forest_none.mean()*100, 1 )))\n",
        "print(\"\\n=======================================\")"
      ],
      "metadata": {
        "colab": {
          "base_uri": "https://localhost:8080/"
        },
        "id": "PvSx01-6sviO",
        "outputId": "00644bc4-9283-4826-953f-c328034799fb"
      },
      "execution_count": null,
      "outputs": [
        {
          "output_type": "stream",
          "name": "stdout",
          "text": [
            "\n",
            "Scores Random Forests log2: [0.91707317 0.89756098 0.92439024 0.89756098 0.93154034 0.93398533\n",
            " 0.9193154  0.90220049 0.92909535 0.92420538]\n",
            "\n",
            "Média: 91.8%\n",
            "\n",
            "=======================================\n",
            "\n",
            "Scores Random Forests 20: [0.92926829 0.91707317 0.92682927 0.9195122  0.93154034 0.91442543\n",
            " 0.92420538 0.9193154  0.92420538 0.8997555 ]\n",
            "\n",
            "Média: 92.1%\n",
            "\n",
            "=======================================\n",
            "\n",
            "Scores Random Forests none: [0.9195122  0.92926829 0.92682927 0.92439024 0.91442543 0.91198044\n",
            " 0.90464548 0.92665037 0.90220049 0.92909535]\n",
            "\n",
            "Média: 91.9%\n",
            "\n",
            "=======================================\n"
          ]
        }
      ]
    },
    {
      "cell_type": "markdown",
      "source": [
        "####Os resultados indicam que 20 features levaram a uma melhoria final. Apesar de ter tido resultado ligeiramente melhor que o log2, o none foi o pior dos 3 pois custou muito mais tempo de execução, sendo de 18.819s, enquanto log2 e 20 obtiveram 2.158s e 3.947s, respectivamente"
      ],
      "metadata": {
        "id": "gUiOBmaUtFXl"
      }
    },
    {
      "cell_type": "markdown",
      "source": [
        "###- Variações no max_depth:"
      ],
      "metadata": {
        "id": "qy_BkjCfuUPU"
      }
    },
    {
      "cell_type": "markdown",
      "source": [
        "####O valor padrão é none, ou seja, sem limites, portanto obtemos a seguir a profundidade média das árvores que foram construídas para esse dataset na configuração padrão"
      ],
      "metadata": {
        "id": "W0mm2N4QujMz"
      }
    },
    {
      "cell_type": "code",
      "source": [
        "from statistics import mean\n",
        "mean([tree.tree_.max_depth for tree in model.estimators_])"
      ],
      "metadata": {
        "colab": {
          "base_uri": "https://localhost:8080/"
        },
        "id": "G-nVeyvovDVl",
        "outputId": "cc03747b-4e91-47e1-f97b-feaf59e62202"
      },
      "execution_count": null,
      "outputs": [
        {
          "output_type": "execute_result",
          "data": {
            "text/plain": [
              "36.15"
            ]
          },
          "metadata": {},
          "execution_count": 92
        }
      ]
    },
    {
      "cell_type": "markdown",
      "source": [
        "####Sabendo disso, o experimento será feito com valores de 5, 10 e 20"
      ],
      "metadata": {
        "id": "4C2K6dVExMEb"
      }
    },
    {
      "cell_type": "code",
      "source": [
        "model_forest_d5 = RandomForestClassifier(max_depth = 5)\n",
        "model_forest_d5.fit(X_train, y_train)\n",
        "\n",
        "model_forest_d10 = RandomForestClassifier(max_depth = 10)\n",
        "model_forest_d10.fit(X_train, y_train)\n",
        "\n",
        "model_forest_d20 = RandomForestClassifier(max_depth = 20)\n",
        "model_forest_d20.fit(X_train, y_train)"
      ],
      "metadata": {
        "colab": {
          "base_uri": "https://localhost:8080/"
        },
        "id": "d59hK0XZtAxj",
        "outputId": "23030bf0-feb7-4cd5-8b96-01f03711415b"
      },
      "execution_count": null,
      "outputs": [
        {
          "output_type": "execute_result",
          "data": {
            "text/plain": [
              "RandomForestClassifier(max_depth=20)"
            ]
          },
          "metadata": {},
          "execution_count": 94
        }
      ]
    },
    {
      "cell_type": "code",
      "source": [
        "results_forest_d5 = cross_val_score(model_forest_d5, features_validation, targets_validation, cv = kfold)\n",
        "results_forest_d10 = cross_val_score(model_forest_d10, features_validation, targets_validation, cv = kfold)\n",
        "results_forest_d20 = cross_val_score(model_forest_d20, features_validation, targets_validation, cv = kfold)"
      ],
      "metadata": {
        "id": "4woNm1YPyDNQ"
      },
      "execution_count": null,
      "outputs": []
    },
    {
      "cell_type": "code",
      "source": [
        "print(\"\\nScores Random Forests max_depth 5: {0}\".format(results_forest_d5))\n",
        "print(\"\\nMédia: {0}%\".format(round( results_forest_d5.mean()*100, 1 )))\n",
        "print(\"\\n=======================================\")\n",
        "\n",
        "print(\"\\nScores Random Forests max_depth 10: {0}\".format(results_forest_d10))\n",
        "print(\"\\nMédia: {0}%\".format(round( results_forest_d10.mean()*100, 1 )))\n",
        "print(\"\\n=======================================\")\n",
        "\n",
        "print(\"\\nScores Random Forests max_depth 20: {0}\".format(results_forest_d20))\n",
        "print(\"\\nMédia: {0}%\".format(round( results_forest_d20.mean()*100, 1 )))\n",
        "print(\"\\n=======================================\")"
      ],
      "metadata": {
        "colab": {
          "base_uri": "https://localhost:8080/"
        },
        "id": "Urhaayl_ygl6",
        "outputId": "192156d9-d592-4db1-8569-fb3197bf83b0"
      },
      "execution_count": null,
      "outputs": [
        {
          "output_type": "stream",
          "name": "stdout",
          "text": [
            "\n",
            "Scores Random Forests max_depth 5: [0.84146341 0.91219512 0.91707317 0.90243902 0.8997555  0.8606357\n",
            " 0.90220049 0.8606357  0.85085575 0.92176039]\n",
            "\n",
            "Média: 88.7%\n",
            "\n",
            "=======================================\n",
            "\n",
            "Scores Random Forests max_depth 10: [0.93414634 0.93658537 0.9195122  0.90243902 0.91198044 0.9193154\n",
            " 0.91198044 0.89242054 0.88997555 0.89486553]\n",
            "\n",
            "Média: 91.1%\n",
            "\n",
            "=======================================\n",
            "\n",
            "Scores Random Forests max_depth 20: [0.90487805 0.92195122 0.90487805 0.9195122  0.91687042 0.95354523\n",
            " 0.9193154  0.92420538 0.89731051 0.92176039]\n",
            "\n",
            "Média: 91.8%\n",
            "\n",
            "=======================================\n"
          ]
        }
      ]
    },
    {
      "cell_type": "markdown",
      "source": [
        "####O melhor resultado foi aquele com maior profundidade nas árvores, 20"
      ],
      "metadata": {
        "id": "NC8eazpmy7-t"
      }
    },
    {
      "cell_type": "markdown",
      "source": [
        "###- Combinando os melhores resultados em um só modelo:"
      ],
      "metadata": {
        "id": "frRRvi7wzE3d"
      }
    },
    {
      "cell_type": "code",
      "source": [
        "model_forest_final = RandomForestClassifier(n_estimators = 200, max_features = 20, max_depth = 20)"
      ],
      "metadata": {
        "id": "EWD2hmF-y48d"
      },
      "execution_count": null,
      "outputs": []
    },
    {
      "cell_type": "code",
      "source": [
        "model_forest_final.fit(X_train, y_train)"
      ],
      "metadata": {
        "colab": {
          "base_uri": "https://localhost:8080/"
        },
        "id": "thX8a6rIzf-Q",
        "outputId": "cba31bc5-fe60-4907-c567-93480cfe83f5"
      },
      "execution_count": null,
      "outputs": [
        {
          "output_type": "execute_result",
          "data": {
            "text/plain": [
              "RandomForestClassifier(max_depth=20, max_features=20, n_estimators=200)"
            ]
          },
          "metadata": {},
          "execution_count": 98
        }
      ]
    },
    {
      "cell_type": "code",
      "source": [
        "y_pred_forest_final = model_forest_final.predict(X_test)"
      ],
      "metadata": {
        "id": "qWUFNPUL3uRd"
      },
      "execution_count": null,
      "outputs": []
    },
    {
      "cell_type": "code",
      "source": [
        "print(\"\\nAcurácia:\",round(metrics.accuracy_score(y_test, y_pred_forest_final)*100, 1), \"%\")\n",
        "print(\"\\nF1 Score: \", round(metrics.f1_score(y_test, y_pred_forest_final)*100, 1), \"%\")\n",
        "print(\"\\nPrecision: \", round(metrics.precision_score(y_test, y_pred_forest_final)*100, 1), \"%\")\n",
        "print(\"\\nRecall: \", round(metrics.recall_score(y_test, y_pred_forest_final)*100, 1), \"%\")\n",
        "print(\"\\n=================================================\")"
      ],
      "metadata": {
        "colab": {
          "base_uri": "https://localhost:8080/"
        },
        "id": "Ri7SLSO_3qeT",
        "outputId": "a719128c-fde3-4ef4-9653-de1d4af141f5"
      },
      "execution_count": null,
      "outputs": [
        {
          "output_type": "stream",
          "name": "stdout",
          "text": [
            "\n",
            "Acurácia: 93.3 %\n",
            "\n",
            "F1 Score:  86.8 %\n",
            "\n",
            "Precision:  91.4 %\n",
            "\n",
            "Recall:  82.7 %\n",
            "\n",
            "=================================================\n"
          ]
        }
      ]
    },
    {
      "cell_type": "code",
      "source": [
        "results_forest_final = cross_val_score(model_forest_final, features_validation, targets_validation, cv = kfold)"
      ],
      "metadata": {
        "id": "2dL35QOlzmn1"
      },
      "execution_count": null,
      "outputs": []
    },
    {
      "cell_type": "code",
      "source": [
        "print(\"\\nScores Random Forests final: {0}\".format(results_forest_final))\n",
        "print(\"\\nMédia: {0}%\".format(round( results_forest_final.mean()*100, 1 )))\n",
        "print(\"\\n=======================================\")"
      ],
      "metadata": {
        "colab": {
          "base_uri": "https://localhost:8080/"
        },
        "id": "e2b_mZ0DzyJo",
        "outputId": "e9284ad8-c4f2-445f-9530-ce71e99c2d35"
      },
      "execution_count": null,
      "outputs": [
        {
          "output_type": "stream",
          "name": "stdout",
          "text": [
            "\n",
            "Scores Random Forests final: [0.93658537 0.94390244 0.89268293 0.92195122 0.91687042 0.89731051\n",
            " 0.9193154  0.93398533 0.90953545 0.93154034]\n",
            "\n",
            "Média: 92.0%\n",
            "\n",
            "=======================================\n"
          ]
        }
      ]
    },
    {
      "cell_type": "markdown",
      "source": [
        "###Comparando o resultado obtido na combinação paramétrica encontrada com aquele advindo da configuração padrão oferecida pela biblioteca, pode-se observar uma ligeira vantagem deste em relação àquele. Para o dataset em questão, a combinação padrão já é suficiente"
      ],
      "metadata": {
        "id": "cnR1k7nP0Ho-"
      }
    },
    {
      "cell_type": "markdown",
      "source": [
        "###Para trabalhos futuros, observa-se que a criação de funções e pipelines é desejável, evitando assim repetição de blocos de código, bem como facilitando a reutilização"
      ],
      "metadata": {
        "id": "b86bJj3W4CAP"
      }
    },
    {
      "cell_type": "code",
      "source": [
        ""
      ],
      "metadata": {
        "id": "BG4U8u0q0C_C"
      },
      "execution_count": null,
      "outputs": []
    }
  ]
}